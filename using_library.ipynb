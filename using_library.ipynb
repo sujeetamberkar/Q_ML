{
 "cells": [
  {
   "cell_type": "code",
   "execution_count": 5,
   "metadata": {},
   "outputs": [],
   "source": [
    "import pandas as pd\n",
    "df = pd.read_csv(\"sampled_data_1233455.csv\")"
   ]
  },
  {
   "cell_type": "code",
   "execution_count": 6,
   "metadata": {},
   "outputs": [
    {
     "data": {
      "text/html": [
       "<div>\n",
       "<style scoped>\n",
       "    .dataframe tbody tr th:only-of-type {\n",
       "        vertical-align: middle;\n",
       "    }\n",
       "\n",
       "    .dataframe tbody tr th {\n",
       "        vertical-align: top;\n",
       "    }\n",
       "\n",
       "    .dataframe thead th {\n",
       "        text-align: right;\n",
       "    }\n",
       "</style>\n",
       "<table border=\"1\" class=\"dataframe\">\n",
       "  <thead>\n",
       "    <tr style=\"text-align: right;\">\n",
       "      <th></th>\n",
       "      <th>Feature 1</th>\n",
       "      <th>Feature 2</th>\n",
       "      <th>Class Label</th>\n",
       "    </tr>\n",
       "  </thead>\n",
       "  <tbody>\n",
       "    <tr>\n",
       "      <th>0</th>\n",
       "      <td>0.448372</td>\n",
       "      <td>-0.903387</td>\n",
       "      <td>0.0</td>\n",
       "    </tr>\n",
       "    <tr>\n",
       "      <th>1</th>\n",
       "      <td>-0.213044</td>\n",
       "      <td>0.550000</td>\n",
       "      <td>0.0</td>\n",
       "    </tr>\n",
       "    <tr>\n",
       "      <th>2</th>\n",
       "      <td>0.900868</td>\n",
       "      <td>-0.010139</td>\n",
       "      <td>1.0</td>\n",
       "    </tr>\n",
       "    <tr>\n",
       "      <th>3</th>\n",
       "      <td>0.374398</td>\n",
       "      <td>-0.850995</td>\n",
       "      <td>0.0</td>\n",
       "    </tr>\n",
       "    <tr>\n",
       "      <th>4</th>\n",
       "      <td>0.663910</td>\n",
       "      <td>-0.437368</td>\n",
       "      <td>0.0</td>\n",
       "    </tr>\n",
       "  </tbody>\n",
       "</table>\n",
       "</div>"
      ],
      "text/plain": [
       "   Feature 1  Feature 2  Class Label\n",
       "0   0.448372  -0.903387          0.0\n",
       "1  -0.213044   0.550000          0.0\n",
       "2   0.900868  -0.010139          1.0\n",
       "3   0.374398  -0.850995          0.0\n",
       "4   0.663910  -0.437368          0.0"
      ]
     },
     "execution_count": 6,
     "metadata": {},
     "output_type": "execute_result"
    }
   ],
   "source": [
    "from sklearn.preprocessing import StandardScaler\n",
    "from sklearn.decomposition import PCA\n",
    "from sklearn.model_selection import train_test_split\n",
    "\n",
    "features = [\"0\",\"1\", \"2\", \"3\", \"4\", \"5\", \"7\"]\n",
    "X = df[features]\n",
    "y = df[\"8\"]\n",
    "scaler = StandardScaler()\n",
    "X_scaled = scaler.fit_transform(X)\n",
    "pca = PCA(n_components=2)\n",
    "X_pca = pca.fit_transform(X_scaled)\n",
    "\n",
    "pca_df = pd.DataFrame(data = X_pca, columns = [\"Feature 1\", \"Feature 2\"])\n",
    "dataset = pd.concat([pca_df, y], axis=1)\n",
    "dataset=dataset.rename(columns={\"8\":\"Class Label\"})\n",
    "dataset.head()"
   ]
  },
  {
   "cell_type": "code",
   "execution_count": 7,
   "metadata": {},
   "outputs": [],
   "source": [
    "X = dataset[['Feature 1', 'Feature 2']].values\n",
    "y = dataset['Class Label'].values\n",
    "X_train, X_test, y_train, y_test = train_test_split(X, y, test_size=0.2, random_state=42)\n"
   ]
  },
  {
   "cell_type": "code",
   "execution_count": 8,
   "metadata": {},
   "outputs": [
    {
     "name": "stderr",
     "output_type": "stream",
     "text": [
      "/var/folders/j5/xjgdn5n12cv8xt7g7_l1vp280000gn/T/ipykernel_11705/1430067715.py:9: DeprecationWarning: The class ``qiskit.utils.quantum_instance.QuantumInstance`` is deprecated as of qiskit-terra 0.24.0. It will be removed no earlier than 3 months after the release date. For code migration guidelines, visit https://qisk.it/qi_migration.\n",
      "  quantum_instance = QuantumInstance(backend, shots=1024, seed_simulator=42, seed_transpiler=42)\n"
     ]
    }
   ],
   "source": [
    "from qiskit.circuit.library import ZZFeatureMap\n",
    "from qiskit_machine_learning.algorithms import QSVC\n",
    "from qiskit_machine_learning.kernels import TrainableFidelityQuantumKernel\n",
    "from qiskit.utils import QuantumInstance\n",
    "from qiskit import BasicAer\n",
    "\n",
    "backend = BasicAer.get_backend('qasm_simulator')\n",
    "quantum_instance = QuantumInstance(backend, shots=1024, seed_simulator=42, seed_transpiler=42)\n",
    "feature_map = ZZFeatureMap(feature_dimension=2, reps=2, entanglement='linear')\n",
    "quantum_kernel = TrainableFidelityQuantumKernel(feature_map=feature_map)\n",
    "qsvc = QSVC(quantum_kernel=quantum_kernel)"
   ]
  },
  {
   "cell_type": "code",
   "execution_count": 9,
   "metadata": {},
   "outputs": [],
   "source": [
    "qsvc.fit(X_train, y_train)\n",
    "y_pred = qsvc.predict(X_test)"
   ]
  },
  {
   "cell_type": "code",
   "execution_count": 10,
   "metadata": {},
   "outputs": [
    {
     "name": "stdout",
     "output_type": "stream",
     "text": [
      "Classification Report for Training Data:\n",
      "              precision    recall  f1-score   support\n",
      "\n",
      "     Class 0       0.65      0.50      0.57       532\n",
      "     Class 1       0.58      0.71      0.64       508\n",
      "\n",
      "    accuracy                           0.61      1040\n",
      "   macro avg       0.61      0.61      0.60      1040\n",
      "weighted avg       0.61      0.61      0.60      1040\n",
      "\n",
      "Classification Report for Testing Data:\n",
      "              precision    recall  f1-score   support\n",
      "\n",
      "     Class 0       0.62      0.51      0.56       130\n",
      "     Class 1       0.58      0.69      0.63       130\n",
      "\n",
      "    accuracy                           0.60       260\n",
      "   macro avg       0.60      0.60      0.60       260\n",
      "weighted avg       0.60      0.60      0.60       260\n",
      "\n"
     ]
    }
   ],
   "source": [
    "from sklearn.metrics import classification_report\n",
    "train_predictions = qsvc.predict(X_train)\n",
    "test_predictions = qsvc.predict(X_test)\n",
    "\n",
    "report_train = classification_report(y_train, train_predictions, target_names=['Class 0', 'Class 1'])\n",
    "print(\"Classification Report for Training Data:\")\n",
    "print(report_train)\n",
    "report_test = classification_report(y_test, test_predictions, target_names=['Class 0', 'Class 1'])\n",
    "print(\"Classification Report for Testing Data:\")\n",
    "print(report_test)\n"
   ]
  }
 ],
 "metadata": {
  "kernelspec": {
   "display_name": "Python 3",
   "language": "python",
   "name": "python3"
  },
  "language_info": {
   "codemirror_mode": {
    "name": "ipython",
    "version": 3
   },
   "file_extension": ".py",
   "mimetype": "text/x-python",
   "name": "python",
   "nbconvert_exporter": "python",
   "pygments_lexer": "ipython3",
   "version": "3.11.4"
  }
 },
 "nbformat": 4,
 "nbformat_minor": 2
}
